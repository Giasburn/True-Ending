{
 "cells": [
  {
   "cell_type": "markdown",
   "metadata": {},
   "source": [
    "### UDP套接字编程\n",
    "运行在不同端系统上的进程彼此通过向套接字发送报文进行通信。  \n",
    "在使用UDP时，必须先将目的地址附在该分组之上。  \n",
    "在该分组传过发送方的套接字之后，因特网使用该目的地址通过因特网为该分组选路到接收进程的套接字。当分组到达接收套接字时，接收进程将通过该套接字取回分组，然后检查"
   ]
  },
  {
   "cell_type": "markdown",
   "metadata": {},
   "source": [
    "服务器端："
   ]
  },
  {
   "cell_type": "code",
   "execution_count": null,
   "metadata": {},
   "outputs": [],
   "source": [
    "from socket import *\n",
    "serverPort = 12000\n",
    "serverSocket = socket(AF_INET, SOCK_DGRAM)\n",
    "serverSocket.bind(('', serverPort))\n",
    "print(\"the server is ready to receive\")\n",
    "while True:\n",
    "    message, clientAddress = serverSocket.recvfrom(2048)\n",
    "    modifiedMessage = message.decode().upper()\n",
    "    print(”message“)\n",
    "    serverSocket.sendto(modifiedMessage.encode(), clientAddress)"
   ]
  },
  {
   "cell_type": "markdown",
   "metadata": {},
   "source": [
    "### TCP套接字编程\n",
    "客户端："
   ]
  },
  {
   "cell_type": "code",
   "execution_count": 12,
   "metadata": {
    "scrolled": true
   },
   "outputs": [
    {
     "name": "stdout",
     "output_type": "stream",
     "text": [
      "Input sentence:hello world\n",
      "From server:  HELLO WORLD\n"
     ]
    }
   ],
   "source": [
    "from socket import *\n",
    "serverName = '172.26.99.155'\n",
    "serverPort = 5000\n",
    "clientSocket = socket(AF_INET, SOCK_STREAM)\n",
    "clientSocket.connect((serverName, serverPort))\n",
    "sentence = input('Input sentence:')\n",
    "clientSocket.send(sentence.encode())\n",
    "modifiedSentence = clientSocket.recv(1024)\n",
    "print('From server: ', modifiedSentence.decode())\n",
    "clientSocket.close()"
   ]
  }
 ],
 "metadata": {
  "kernelspec": {
   "display_name": "Python 3",
   "language": "python",
   "name": "python3"
  },
  "language_info": {
   "codemirror_mode": {
    "name": "ipython",
    "version": 3
   },
   "file_extension": ".py",
   "mimetype": "text/x-python",
   "name": "python",
   "nbconvert_exporter": "python",
   "pygments_lexer": "ipython3",
   "version": "3.7.4"
  }
 },
 "nbformat": 4,
 "nbformat_minor": 2
}
